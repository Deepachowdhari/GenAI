{
 "cells": [
  {
   "cell_type": "markdown",
   "id": "19e691f1-e5d5-4aa4-a53e-6ddcdd23e18d",
   "metadata": {},
   "source": [
    "# Exploring Llama 3.2-Vision (locally) with Ollama"
   ]
  },
  {
   "cell_type": "markdown",
   "id": "9004ada7-b590-45ae-87d8-6968558bd932",
   "metadata": {},
   "source": [
    "### imports"
   ]
  },
  {
   "cell_type": "code",
   "execution_count": 1,
   "id": "f494bd82",
   "metadata": {},
   "outputs": [
    {
     "name": "stdout",
     "output_type": "stream",
     "text": [
      "Requirement already satisfied: ollama in c:\\users\\deepa\\appdata\\local\\programs\\python\\python311\\lib\\site-packages (0.3.3)\n",
      "Requirement already satisfied: httpx<0.28.0,>=0.27.0 in c:\\users\\deepa\\appdata\\local\\programs\\python\\python311\\lib\\site-packages (from ollama) (0.27.0)\n",
      "Requirement already satisfied: anyio in c:\\users\\deepa\\appdata\\local\\programs\\python\\python311\\lib\\site-packages (from httpx<0.28.0,>=0.27.0->ollama) (4.3.0)\n",
      "Requirement already satisfied: certifi in c:\\users\\deepa\\appdata\\local\\programs\\python\\python311\\lib\\site-packages (from httpx<0.28.0,>=0.27.0->ollama) (2023.11.17)\n",
      "Requirement already satisfied: httpcore==1.* in c:\\users\\deepa\\appdata\\local\\programs\\python\\python311\\lib\\site-packages (from httpx<0.28.0,>=0.27.0->ollama) (1.0.5)\n",
      "Requirement already satisfied: idna in c:\\users\\deepa\\appdata\\local\\programs\\python\\python311\\lib\\site-packages (from httpx<0.28.0,>=0.27.0->ollama) (3.6)\n",
      "Requirement already satisfied: sniffio in c:\\users\\deepa\\appdata\\local\\programs\\python\\python311\\lib\\site-packages (from httpx<0.28.0,>=0.27.0->ollama) (1.3.1)\n",
      "Requirement already satisfied: h11<0.15,>=0.13 in c:\\users\\deepa\\appdata\\local\\programs\\python\\python311\\lib\\site-packages (from httpcore==1.*->httpx<0.28.0,>=0.27.0->ollama) (0.14.0)\n",
      "Note: you may need to restart the kernel to use updated packages.\n"
     ]
    }
   ],
   "source": [
    "pip install ollama"
   ]
  },
  {
   "cell_type": "code",
   "execution_count": 2,
   "id": "353a71c8-f7c8-4e7d-93df-d3a55cd6b039",
   "metadata": {},
   "outputs": [],
   "source": [
    "import ollama"
   ]
  },
  {
   "cell_type": "markdown",
   "id": "d77b99af-7ca5-4628-9377-ddd0f5bf30c7",
   "metadata": {},
   "source": [
    "### pull model"
   ]
  },
  {
   "cell_type": "code",
   "execution_count": 3,
   "id": "726a200d-921e-4a8e-a38b-4ac38a99ad25",
   "metadata": {},
   "outputs": [
    {
     "data": {
      "text/plain": [
       "{'status': 'success'}"
      ]
     },
     "execution_count": 3,
     "metadata": {},
     "output_type": "execute_result"
    }
   ],
   "source": [
    "ollama.pull('llama3.2-vision')"
   ]
  },
  {
   "cell_type": "markdown",
   "id": "8c77b5ab-7cd6-4815-b12c-6f7c58dbb5aa",
   "metadata": {},
   "source": [
    "#### Basic Usage"
   ]
  },
  {
   "cell_type": "code",
   "execution_count": 13,
   "id": "3f526327-a9b5-46a9-9008-e9cb65ed260d",
   "metadata": {},
   "outputs": [
    {
     "name": "stdout",
     "output_type": "stream",
     "text": [
      "The image features two fluffy yellow ducklings, or chicks, standing together on the ground. They have bright yellow feathers and large black eyes, with orange beaks. The background appears to be a pile of straw or hay.\n"
     ]
    }
   ],
   "source": [
    "response = ollama.chat(\n",
    "    model='llama3.2-vision',\n",
    "    messages=[{\n",
    "        'role': 'user',\n",
    "        'content': 'What is in this image?',\n",
    "        'images': ['C:/Users/deepa/OneDrive/Desktop/birds.jpg']\n",
    "    }]\n",
    ")\n",
    "\n",
    "print(response['message']['content'])"
   ]
  },
  {
   "cell_type": "markdown",
   "id": "dbfabe75-b6e2-41f4-8538-371192135ae2",
   "metadata": {},
   "source": [
    "#### Image captioning - streaming"
   ]
  },
  {
   "cell_type": "code",
   "execution_count": 10,
   "id": "dc29b737-6f86-4cee-a7c4-274ba2f10c2a",
   "metadata": {},
   "outputs": [
    {
     "name": "stdout",
     "output_type": "stream",
     "text": [
      "The image features two ducklings standing side by side, their fluffy yellow feathers glistening in the light. Their beaks are a soft pink hue, and they gaze directly at the camera with large black eyes. The duckling on the left is slightly larger than its companion, while both birds have short legs that appear to be made of downy material.\n",
      "\n",
      "In the background, a blurred brown color provides a subtle contrast to the vibrant yellow of the ducklings. The overall atmosphere of the image exudes warmth and coziness, evoking feelings of comfort and serenity."
     ]
    }
   ],
   "source": [
    "stream = ollama.chat(\n",
    "    model='llama3.2-vision',\n",
    "    messages=[{\n",
    "        'role': 'user',\n",
    "        'content': 'Can you write a caption for this image?',\n",
    "        'images': ['C:/Users/deepa/OneDrive/Desktop/birds.jpg']\n",
    "    }],\n",
    "    stream=True,\n",
    ")\n",
    "\n",
    "for chunk in stream:\n",
    "    print(chunk['message']['content'], end='', flush=True)"
   ]
  },
  {
   "cell_type": "markdown",
   "id": "053d3738-a3c0-4d44-83b8-7f90ddce9cd6",
   "metadata": {},
   "source": [
    "#### Explaining memes"
   ]
  },
  {
   "cell_type": "code",
   "execution_count": null,
   "id": "d1ac5d88-6438-4ff6-849b-a888c90d8790",
   "metadata": {},
   "outputs": [
    {
     "name": "stdout",
     "output_type": "stream",
     "text": [
      "This humorous comic strip illustrates the common practice of users hastily agreeing to terms and conditions without thoroughly reading them. The conversation between a user and a robot, which represents the software or system they are interacting with, highlights the irony that many people do not actually read these agreements.\n",
      "\n",
      "**The Dialogue**\n",
      "\n",
      "* The user is asked to read through all the terms and conditions before proceeding.\n",
      "* The user agrees but does not provide any indication of having done so.\n",
      "* The robot responds by saying \"I know you are lying but okay\" suggesting that it is aware of the user's deception.\n",
      "\n",
      "**Commentary on User Behavior**\n",
      "\n",
      "The comic strip pokes fun at the widespread behavior of users clicking through agreements without reading them, often due to a lack of time or attention span. It also implies that some systems may be designed to take advantage of this behavior by including terms and conditions that are difficult to understand or agree to.\n",
      "\n",
      "**Overall Message**\n",
      "\n",
      "While the comic strip is humorous, it also raises important questions about user responsibility and the need for clear communication in digital agreements. By acknowledging the tendency for users to gloss over terms and conditions, we can work towards creating more transparent and user-friendly interactions online."
     ]
    }
   ],
   "source": [
    "stream = ollama.chat(\n",
    "    model='llama3.2-vision',\n",
    "    messages=[{\n",
    "        'role': 'user',\n",
    "        'content': 'Can you explain this meme to me?',\n",
    "        'images': ['C:/Users/deepa/OneDrive/Desktop/ai_meme.jpg']\n",
    "    }],\n",
    "    stream=True,\n",
    ")\n",
    "\n",
    "for chunk in stream:\n",
    "    print(chunk['message']['content'], end='', flush=True)"
   ]
  },
  {
   "cell_type": "markdown",
   "id": "73926c2f-826f-4a15-8a67-b5ca4e4b6d9e",
   "metadata": {},
   "source": [
    "#### OCR"
   ]
  },
  {
   "cell_type": "code",
   "execution_count": 9,
   "id": "06e911d1-533d-48ba-923a-549544aba5b7",
   "metadata": {},
   "outputs": [
    {
     "name": "stdout",
     "output_type": "stream",
     "text": [
      "**Credit Card Bill**\n",
      "\n",
      "This is a bill in which you have to pay. If you do not pay within one month, a $250 fine is assessed.\n",
      "\n",
      "**Name:** John Phillips\n",
      "**Address:** 123 Main Street, San Francisco, CA 12345\n",
      "\n",
      "**CC Number:** XXXXXXXX1234\n",
      "**Bill Received:** January 16th, 1968\n",
      "\n",
      "**Your Transactions:**\n",
      "\n",
      "* **Item 1:** The ABC Store - Cookies\n",
      "\t+ Price: $2.81\n",
      "\t+ Description: Cookies\n",
      "* **Item 2:** Orville's Bakery - Donuts\n",
      "\t+ Price: $5.95\n",
      "\t+ Description: Donuts\n",
      "* **Item 3:** Stan’s Gas Station - 10 Gallons of Gas\n",
      "\t+ Price: $40.00\n",
      "\t+ Description: 10 gallons of gas\n",
      "\n",
      "**Total:** $48.76\n",
      "\n",
      "**Credit Card Bill Details:**\n",
      "\n",
      "This is a bill in which you have to pay within one month, a $250 fine is assessed.\n",
      "\n",
      "* **Name:** John Phillips\n",
      "* **Address:** 123 Main Street, San Francisco, CA 12345\n",
      "* **CC Number:** XXXXXXXX1234\n",
      "* **Bill Received:** January 16th, 1968\n",
      "\n",
      "**Itemized Bill:**\n",
      "\n",
      "* **Item 1:** The ABC Store - Cookies\n",
      "\t+ Price: $2.81\n",
      "\t+ Description: Cookies\n",
      "* **Item 2:** Orville's Bakery - Donuts\n",
      "\t+ Price: $5.95\n",
      "\t+ Description: Donuts\n",
      "* **Item 3:** Stan’s Gas Station - 10 Gallons of Gas\n",
      "\t+ Price: $40.00\n",
      "\t+ Description: 10 gallons of gas\n",
      "\n",
      "**Total:** $48.76"
     ]
    }
   ],
   "source": [
    "stream = ollama.chat(\n",
    "    model='llama3.2-vision',\n",
    "    messages=[{\n",
    "        'role': 'user',\n",
    "        'content': 'Can you transcribe the text from this screenshot in a markdown format?',\n",
    "        'images': ['C:/Users/deepa/OneDrive/Desktop/ocr.jpeg']\n",
    "    }],\n",
    "    stream=True,\n",
    ")\n",
    "\n",
    "for chunk in stream:\n",
    "    print(chunk['message']['content'], end='', flush=True)\n",
    "    \n"
   ]
  }
 ],
 "metadata": {
  "kernelspec": {
   "display_name": "Python 3",
   "language": "python",
   "name": "python3"
  },
  "language_info": {
   "codemirror_mode": {
    "name": "ipython",
    "version": 3
   },
   "file_extension": ".py",
   "mimetype": "text/x-python",
   "name": "python",
   "nbconvert_exporter": "python",
   "pygments_lexer": "ipython3",
   "version": "3.11.3"
  }
 },
 "nbformat": 4,
 "nbformat_minor": 5
}
