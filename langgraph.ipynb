{
  "nbformat": 4,
  "nbformat_minor": 0,
  "metadata": {
    "colab": {
      "provenance": [],
      "gpuType": "T4",
      "authorship_tag": "ABX9TyPYajjWwBaQwI2WJb0uKmMp",
      "include_colab_link": true
    },
    "kernelspec": {
      "name": "python3",
      "display_name": "Python 3"
    },
    "language_info": {
      "name": "python"
    },
    "accelerator": "GPU"
  },
  "cells": [
    {
      "cell_type": "markdown",
      "metadata": {
        "id": "view-in-github",
        "colab_type": "text"
      },
      "source": [
        "<a href=\"https://colab.research.google.com/github/Deepachowdhari/GenAI/blob/main/langgraph.ipynb\" target=\"_parent\"><img src=\"https://colab.research.google.com/assets/colab-badge.svg\" alt=\"Open In Colab\"/></a>"
      ]
    },
    {
      "cell_type": "code",
      "execution_count": null,
      "metadata": {
        "colab": {
          "base_uri": "https://localhost:8080/"
        },
        "id": "efmV3WUR0iAc",
        "outputId": "30d8475b-7d03-4427-8c49-bca400165c17"
      },
      "outputs": [
        {
          "output_type": "stream",
          "name": "stdout",
          "text": [
            "Requirement already satisfied: langgraph in /usr/local/lib/python3.10/dist-packages (0.2.60)\n",
            "Requirement already satisfied: langchain in /usr/local/lib/python3.10/dist-packages (0.3.13)\n",
            "Requirement already satisfied: langchain_community in /usr/local/lib/python3.10/dist-packages (0.3.13)\n",
            "Requirement already satisfied: langchain-core!=0.3.0,!=0.3.1,!=0.3.10,!=0.3.11,!=0.3.12,!=0.3.13,!=0.3.14,!=0.3.15,!=0.3.16,!=0.3.17,!=0.3.18,!=0.3.19,!=0.3.2,!=0.3.20,!=0.3.21,!=0.3.22,!=0.3.3,!=0.3.4,!=0.3.5,!=0.3.6,!=0.3.7,!=0.3.8,!=0.3.9,<0.4.0,>=0.2.43 in /usr/local/lib/python3.10/dist-packages (from langgraph) (0.3.28)\n",
            "Requirement already satisfied: langgraph-checkpoint<3.0.0,>=2.0.4 in /usr/local/lib/python3.10/dist-packages (from langgraph) (2.0.9)\n",
            "Requirement already satisfied: langgraph-sdk<0.2.0,>=0.1.42 in /usr/local/lib/python3.10/dist-packages (from langgraph) (0.1.48)\n",
            "Requirement already satisfied: PyYAML>=5.3 in /usr/local/lib/python3.10/dist-packages (from langchain) (6.0.2)\n",
            "Requirement already satisfied: SQLAlchemy<3,>=1.4 in /usr/local/lib/python3.10/dist-packages (from langchain) (2.0.36)\n",
            "Requirement already satisfied: aiohttp<4.0.0,>=3.8.3 in /usr/local/lib/python3.10/dist-packages (from langchain) (3.11.10)\n",
            "Requirement already satisfied: async-timeout<5.0.0,>=4.0.0 in /usr/local/lib/python3.10/dist-packages (from langchain) (4.0.3)\n",
            "Requirement already satisfied: langchain-text-splitters<0.4.0,>=0.3.3 in /usr/local/lib/python3.10/dist-packages (from langchain) (0.3.3)\n",
            "Requirement already satisfied: langsmith<0.3,>=0.1.17 in /usr/local/lib/python3.10/dist-packages (from langchain) (0.2.3)\n",
            "Requirement already satisfied: numpy<2,>=1.22.4 in /usr/local/lib/python3.10/dist-packages (from langchain) (1.26.4)\n",
            "Requirement already satisfied: pydantic<3.0.0,>=2.7.4 in /usr/local/lib/python3.10/dist-packages (from langchain) (2.10.3)\n",
            "Requirement already satisfied: requests<3,>=2 in /usr/local/lib/python3.10/dist-packages (from langchain) (2.32.3)\n",
            "Requirement already satisfied: tenacity!=8.4.0,<10,>=8.1.0 in /usr/local/lib/python3.10/dist-packages (from langchain) (9.0.0)\n",
            "Requirement already satisfied: dataclasses-json<0.7,>=0.5.7 in /usr/local/lib/python3.10/dist-packages (from langchain_community) (0.6.7)\n",
            "Requirement already satisfied: httpx-sse<0.5.0,>=0.4.0 in /usr/local/lib/python3.10/dist-packages (from langchain_community) (0.4.0)\n",
            "Requirement already satisfied: pydantic-settings<3.0.0,>=2.4.0 in /usr/local/lib/python3.10/dist-packages (from langchain_community) (2.7.1)\n",
            "Requirement already satisfied: aiohappyeyeballs>=2.3.0 in /usr/local/lib/python3.10/dist-packages (from aiohttp<4.0.0,>=3.8.3->langchain) (2.4.4)\n",
            "Requirement already satisfied: aiosignal>=1.1.2 in /usr/local/lib/python3.10/dist-packages (from aiohttp<4.0.0,>=3.8.3->langchain) (1.3.2)\n",
            "Requirement already satisfied: attrs>=17.3.0 in /usr/local/lib/python3.10/dist-packages (from aiohttp<4.0.0,>=3.8.3->langchain) (24.3.0)\n",
            "Requirement already satisfied: frozenlist>=1.1.1 in /usr/local/lib/python3.10/dist-packages (from aiohttp<4.0.0,>=3.8.3->langchain) (1.5.0)\n",
            "Requirement already satisfied: multidict<7.0,>=4.5 in /usr/local/lib/python3.10/dist-packages (from aiohttp<4.0.0,>=3.8.3->langchain) (6.1.0)\n",
            "Requirement already satisfied: propcache>=0.2.0 in /usr/local/lib/python3.10/dist-packages (from aiohttp<4.0.0,>=3.8.3->langchain) (0.2.1)\n",
            "Requirement already satisfied: yarl<2.0,>=1.17.0 in /usr/local/lib/python3.10/dist-packages (from aiohttp<4.0.0,>=3.8.3->langchain) (1.18.3)\n",
            "Requirement already satisfied: marshmallow<4.0.0,>=3.18.0 in /usr/local/lib/python3.10/dist-packages (from dataclasses-json<0.7,>=0.5.7->langchain_community) (3.23.2)\n",
            "Requirement already satisfied: typing-inspect<1,>=0.4.0 in /usr/local/lib/python3.10/dist-packages (from dataclasses-json<0.7,>=0.5.7->langchain_community) (0.9.0)\n",
            "Requirement already satisfied: jsonpatch<2.0,>=1.33 in /usr/local/lib/python3.10/dist-packages (from langchain-core!=0.3.0,!=0.3.1,!=0.3.10,!=0.3.11,!=0.3.12,!=0.3.13,!=0.3.14,!=0.3.15,!=0.3.16,!=0.3.17,!=0.3.18,!=0.3.19,!=0.3.2,!=0.3.20,!=0.3.21,!=0.3.22,!=0.3.3,!=0.3.4,!=0.3.5,!=0.3.6,!=0.3.7,!=0.3.8,!=0.3.9,<0.4.0,>=0.2.43->langgraph) (1.33)\n",
            "Requirement already satisfied: packaging<25,>=23.2 in /usr/local/lib/python3.10/dist-packages (from langchain-core!=0.3.0,!=0.3.1,!=0.3.10,!=0.3.11,!=0.3.12,!=0.3.13,!=0.3.14,!=0.3.15,!=0.3.16,!=0.3.17,!=0.3.18,!=0.3.19,!=0.3.2,!=0.3.20,!=0.3.21,!=0.3.22,!=0.3.3,!=0.3.4,!=0.3.5,!=0.3.6,!=0.3.7,!=0.3.8,!=0.3.9,<0.4.0,>=0.2.43->langgraph) (24.2)\n",
            "Requirement already satisfied: typing-extensions>=4.7 in /usr/local/lib/python3.10/dist-packages (from langchain-core!=0.3.0,!=0.3.1,!=0.3.10,!=0.3.11,!=0.3.12,!=0.3.13,!=0.3.14,!=0.3.15,!=0.3.16,!=0.3.17,!=0.3.18,!=0.3.19,!=0.3.2,!=0.3.20,!=0.3.21,!=0.3.22,!=0.3.3,!=0.3.4,!=0.3.5,!=0.3.6,!=0.3.7,!=0.3.8,!=0.3.9,<0.4.0,>=0.2.43->langgraph) (4.12.2)\n",
            "Requirement already satisfied: msgpack<2.0.0,>=1.1.0 in /usr/local/lib/python3.10/dist-packages (from langgraph-checkpoint<3.0.0,>=2.0.4->langgraph) (1.1.0)\n",
            "Requirement already satisfied: httpx>=0.25.2 in /usr/local/lib/python3.10/dist-packages (from langgraph-sdk<0.2.0,>=0.1.42->langgraph) (0.28.1)\n",
            "Requirement already satisfied: orjson>=3.10.1 in /usr/local/lib/python3.10/dist-packages (from langgraph-sdk<0.2.0,>=0.1.42->langgraph) (3.10.12)\n",
            "Requirement already satisfied: requests-toolbelt<2.0.0,>=1.0.0 in /usr/local/lib/python3.10/dist-packages (from langsmith<0.3,>=0.1.17->langchain) (1.0.0)\n",
            "Requirement already satisfied: annotated-types>=0.6.0 in /usr/local/lib/python3.10/dist-packages (from pydantic<3.0.0,>=2.7.4->langchain) (0.7.0)\n",
            "Requirement already satisfied: pydantic-core==2.27.1 in /usr/local/lib/python3.10/dist-packages (from pydantic<3.0.0,>=2.7.4->langchain) (2.27.1)\n",
            "Requirement already satisfied: python-dotenv>=0.21.0 in /usr/local/lib/python3.10/dist-packages (from pydantic-settings<3.0.0,>=2.4.0->langchain_community) (1.0.1)\n",
            "Requirement already satisfied: charset-normalizer<4,>=2 in /usr/local/lib/python3.10/dist-packages (from requests<3,>=2->langchain) (3.4.0)\n",
            "Requirement already satisfied: idna<4,>=2.5 in /usr/local/lib/python3.10/dist-packages (from requests<3,>=2->langchain) (3.10)\n",
            "Requirement already satisfied: urllib3<3,>=1.21.1 in /usr/local/lib/python3.10/dist-packages (from requests<3,>=2->langchain) (2.2.3)\n",
            "Requirement already satisfied: certifi>=2017.4.17 in /usr/local/lib/python3.10/dist-packages (from requests<3,>=2->langchain) (2024.12.14)\n",
            "Requirement already satisfied: greenlet!=0.4.17 in /usr/local/lib/python3.10/dist-packages (from SQLAlchemy<3,>=1.4->langchain) (3.1.1)\n",
            "Requirement already satisfied: anyio in /usr/local/lib/python3.10/dist-packages (from httpx>=0.25.2->langgraph-sdk<0.2.0,>=0.1.42->langgraph) (3.7.1)\n",
            "Requirement already satisfied: httpcore==1.* in /usr/local/lib/python3.10/dist-packages (from httpx>=0.25.2->langgraph-sdk<0.2.0,>=0.1.42->langgraph) (1.0.7)\n",
            "Requirement already satisfied: h11<0.15,>=0.13 in /usr/local/lib/python3.10/dist-packages (from httpcore==1.*->httpx>=0.25.2->langgraph-sdk<0.2.0,>=0.1.42->langgraph) (0.14.0)\n",
            "Requirement already satisfied: jsonpointer>=1.9 in /usr/local/lib/python3.10/dist-packages (from jsonpatch<2.0,>=1.33->langchain-core!=0.3.0,!=0.3.1,!=0.3.10,!=0.3.11,!=0.3.12,!=0.3.13,!=0.3.14,!=0.3.15,!=0.3.16,!=0.3.17,!=0.3.18,!=0.3.19,!=0.3.2,!=0.3.20,!=0.3.21,!=0.3.22,!=0.3.3,!=0.3.4,!=0.3.5,!=0.3.6,!=0.3.7,!=0.3.8,!=0.3.9,<0.4.0,>=0.2.43->langgraph) (3.0.0)\n",
            "Requirement already satisfied: mypy-extensions>=0.3.0 in /usr/local/lib/python3.10/dist-packages (from typing-inspect<1,>=0.4.0->dataclasses-json<0.7,>=0.5.7->langchain_community) (1.0.0)\n",
            "Requirement already satisfied: sniffio>=1.1 in /usr/local/lib/python3.10/dist-packages (from anyio->httpx>=0.25.2->langgraph-sdk<0.2.0,>=0.1.42->langgraph) (1.3.1)\n",
            "Requirement already satisfied: exceptiongroup in /usr/local/lib/python3.10/dist-packages (from anyio->httpx>=0.25.2->langgraph-sdk<0.2.0,>=0.1.42->langgraph) (1.2.2)\n"
          ]
        }
      ],
      "source": [
        "!pip install langgraph langchain langchain_community"
      ]
    },
    {
      "cell_type": "code",
      "source": [
        "from langgraph.graph import Graph"
      ],
      "metadata": {
        "id": "DOEfp1092amy"
      },
      "execution_count": null,
      "outputs": []
    },
    {
      "cell_type": "code",
      "source": [
        "!pip install langchain_groq"
      ],
      "metadata": {
        "colab": {
          "base_uri": "https://localhost:8080/"
        },
        "id": "1E0-iq2W4IRo",
        "outputId": "71ef6a4d-a530-4114-80e3-54702b3e5332"
      },
      "execution_count": null,
      "outputs": [
        {
          "output_type": "stream",
          "name": "stdout",
          "text": [
            "Requirement already satisfied: langchain_groq in /usr/local/lib/python3.10/dist-packages (0.2.2)\n",
            "Requirement already satisfied: groq<1,>=0.4.1 in /usr/local/lib/python3.10/dist-packages (from langchain_groq) (0.13.1)\n",
            "Requirement already satisfied: langchain-core<0.4.0,>=0.3.27 in /usr/local/lib/python3.10/dist-packages (from langchain_groq) (0.3.28)\n",
            "Requirement already satisfied: anyio<5,>=3.5.0 in /usr/local/lib/python3.10/dist-packages (from groq<1,>=0.4.1->langchain_groq) (3.7.1)\n",
            "Requirement already satisfied: distro<2,>=1.7.0 in /usr/local/lib/python3.10/dist-packages (from groq<1,>=0.4.1->langchain_groq) (1.9.0)\n",
            "Requirement already satisfied: httpx<1,>=0.23.0 in /usr/local/lib/python3.10/dist-packages (from groq<1,>=0.4.1->langchain_groq) (0.28.1)\n",
            "Requirement already satisfied: pydantic<3,>=1.9.0 in /usr/local/lib/python3.10/dist-packages (from groq<1,>=0.4.1->langchain_groq) (2.10.3)\n",
            "Requirement already satisfied: sniffio in /usr/local/lib/python3.10/dist-packages (from groq<1,>=0.4.1->langchain_groq) (1.3.1)\n",
            "Requirement already satisfied: typing-extensions<5,>=4.10 in /usr/local/lib/python3.10/dist-packages (from groq<1,>=0.4.1->langchain_groq) (4.12.2)\n",
            "Requirement already satisfied: PyYAML>=5.3 in /usr/local/lib/python3.10/dist-packages (from langchain-core<0.4.0,>=0.3.27->langchain_groq) (6.0.2)\n",
            "Requirement already satisfied: jsonpatch<2.0,>=1.33 in /usr/local/lib/python3.10/dist-packages (from langchain-core<0.4.0,>=0.3.27->langchain_groq) (1.33)\n",
            "Requirement already satisfied: langsmith<0.3,>=0.1.125 in /usr/local/lib/python3.10/dist-packages (from langchain-core<0.4.0,>=0.3.27->langchain_groq) (0.2.3)\n",
            "Requirement already satisfied: packaging<25,>=23.2 in /usr/local/lib/python3.10/dist-packages (from langchain-core<0.4.0,>=0.3.27->langchain_groq) (24.2)\n",
            "Requirement already satisfied: tenacity!=8.4.0,<10.0.0,>=8.1.0 in /usr/local/lib/python3.10/dist-packages (from langchain-core<0.4.0,>=0.3.27->langchain_groq) (9.0.0)\n",
            "Requirement already satisfied: idna>=2.8 in /usr/local/lib/python3.10/dist-packages (from anyio<5,>=3.5.0->groq<1,>=0.4.1->langchain_groq) (3.10)\n",
            "Requirement already satisfied: exceptiongroup in /usr/local/lib/python3.10/dist-packages (from anyio<5,>=3.5.0->groq<1,>=0.4.1->langchain_groq) (1.2.2)\n",
            "Requirement already satisfied: certifi in /usr/local/lib/python3.10/dist-packages (from httpx<1,>=0.23.0->groq<1,>=0.4.1->langchain_groq) (2024.12.14)\n",
            "Requirement already satisfied: httpcore==1.* in /usr/local/lib/python3.10/dist-packages (from httpx<1,>=0.23.0->groq<1,>=0.4.1->langchain_groq) (1.0.7)\n",
            "Requirement already satisfied: h11<0.15,>=0.13 in /usr/local/lib/python3.10/dist-packages (from httpcore==1.*->httpx<1,>=0.23.0->groq<1,>=0.4.1->langchain_groq) (0.14.0)\n",
            "Requirement already satisfied: jsonpointer>=1.9 in /usr/local/lib/python3.10/dist-packages (from jsonpatch<2.0,>=1.33->langchain-core<0.4.0,>=0.3.27->langchain_groq) (3.0.0)\n",
            "Requirement already satisfied: orjson<4.0.0,>=3.9.14 in /usr/local/lib/python3.10/dist-packages (from langsmith<0.3,>=0.1.125->langchain-core<0.4.0,>=0.3.27->langchain_groq) (3.10.12)\n",
            "Requirement already satisfied: requests<3,>=2 in /usr/local/lib/python3.10/dist-packages (from langsmith<0.3,>=0.1.125->langchain-core<0.4.0,>=0.3.27->langchain_groq) (2.32.3)\n",
            "Requirement already satisfied: requests-toolbelt<2.0.0,>=1.0.0 in /usr/local/lib/python3.10/dist-packages (from langsmith<0.3,>=0.1.125->langchain-core<0.4.0,>=0.3.27->langchain_groq) (1.0.0)\n",
            "Requirement already satisfied: annotated-types>=0.6.0 in /usr/local/lib/python3.10/dist-packages (from pydantic<3,>=1.9.0->groq<1,>=0.4.1->langchain_groq) (0.7.0)\n",
            "Requirement already satisfied: pydantic-core==2.27.1 in /usr/local/lib/python3.10/dist-packages (from pydantic<3,>=1.9.0->groq<1,>=0.4.1->langchain_groq) (2.27.1)\n",
            "Requirement already satisfied: charset-normalizer<4,>=2 in /usr/local/lib/python3.10/dist-packages (from requests<3,>=2->langsmith<0.3,>=0.1.125->langchain-core<0.4.0,>=0.3.27->langchain_groq) (3.4.0)\n",
            "Requirement already satisfied: urllib3<3,>=1.21.1 in /usr/local/lib/python3.10/dist-packages (from requests<3,>=2->langsmith<0.3,>=0.1.125->langchain-core<0.4.0,>=0.3.27->langchain_groq) (2.2.3)\n"
          ]
        }
      ]
    },
    {
      "cell_type": "code",
      "source": [
        "from langchain_groq import ChatGroq"
      ],
      "metadata": {
        "id": "sr3KfWQv2joT"
      },
      "execution_count": null,
      "outputs": []
    },
    {
      "cell_type": "code",
      "source": [
        "from google.colab import userdata\n",
        "userdata.get('groq_api_key')"
      ],
      "metadata": {
        "colab": {
          "base_uri": "https://localhost:8080/",
          "height": 36
        },
        "id": "uzbihUcBFJ2t",
        "outputId": "57d577ce-0b20-440e-a3b4-3603d70d449b"
      },
      "execution_count": null,
      "outputs": [
        {
          "output_type": "execute_result",
          "data": {
            "text/plain": [
              "'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'"
            ],
            "application/vnd.google.colaboratory.intrinsic+json": {
              "type": "string"
            }
          },
          "metadata": {},
          "execution_count": 52
        }
      ]
    },
    {
      "cell_type": "code",
      "source": [
        "GROQ_API_KEY=userdata.get('groq_api_key')"
      ],
      "metadata": {
        "id": "0sj-rEREH8At"
      },
      "execution_count": null,
      "outputs": []
    },
    {
      "cell_type": "code",
      "source": [
        "llm=ChatGroq(model=\"llama3-70b-8192\")
      ],
      "metadata": {
        "id": "IK5PuZlU3RjN"
      },
      "execution_count": null,
      "outputs": []
    },
    {
      "cell_type": "code",
      "source": [
        "llm.invoke(\"hi how are you\")"
      ],
      "metadata": {
        "colab": {
          "base_uri": "https://localhost:8080/"
        },
        "id": "J7q_XqIN3afM",
        "outputId": "1491892b-2578-41a5-d142-daf7f3a3dd35"
      },
      "execution_count": null,
      "outputs": [
        {
          "output_type": "execute_result",
          "data": {
            "text/plain": [
              "AIMessage(content=\"Hi! I'm just a language model, I don't have feelings or emotions like humans do, but I'm functioning properly and ready to assist you with any questions or tasks you may have. How can I help you today?\", additional_kwargs={}, response_metadata={'token_usage': {'completion_tokens': 47, 'prompt_tokens': 14, 'total_tokens': 61, 'completion_time': 0.138263843, 'prompt_time': 0.003417575, 'queue_time': 0.017709045, 'total_time': 0.141681418}, 'model_name': 'llama3-70b-8192', 'system_fingerprint': 'fp_2f30b0b571', 'finish_reason': 'stop', 'logprobs': None}, id='run-a95c5d7e-2a1d-4db1-b5be-a2162f59c593-0', usage_metadata={'input_tokens': 14, 'output_tokens': 47, 'total_tokens': 61})"
            ]
          },
          "metadata": {},
          "execution_count": 55
        }
      ]
    },
    {
      "cell_type": "code",
      "source": [
        "llm.invoke(\"hi how are you\").content"
      ],
      "metadata": {
        "colab": {
          "base_uri": "https://localhost:8080/",
          "height": 72
        },
        "id": "852WNduK3iuO",
        "outputId": "ff9b6673-0ca2-4bec-c767-bef7a6ec06e1"
      },
      "execution_count": null,
      "outputs": [
        {
          "output_type": "execute_result",
          "data": {
            "text/plain": [
              "\"Hi! I'm just a language model, I don't have emotions or feelings like humans do, but I'm functioning properly and ready to help you with any questions or tasks you have. How can I assist you today?\""
            ],
            "application/vnd.google.colaboratory.intrinsic+json": {
              "type": "string"
            }
          },
          "metadata": {},
          "execution_count": 56
        }
      ]
    },
    {
      "cell_type": "code",
      "source": [
        "def function1(input):\n",
        "  llm=ChatGroq(model=\"llama3-70b-8192\",api_key='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')\n",
        "  response=llm.invoke(\"who are you\").content\n",
        "  return response"
      ],
      "metadata": {
        "id": "8PYrhXmSKyBV"
      },
      "execution_count": null,
      "outputs": []
    },
    {
      "cell_type": "code",
      "source": [
        "function1(\"hi\")"
      ],
      "metadata": {
        "colab": {
          "base_uri": "https://localhost:8080/",
          "height": 163
        },
        "id": "7gIllFGPKyOq",
        "outputId": "0c52d4c2-4b6d-4c29-eee7-c841277cf375"
      },
      "execution_count": null,
      "outputs": [
        {
          "output_type": "execute_result",
          "data": {
            "text/plain": [
              "\"I am LLaMA, an AI assistant developed by Meta AI that can understand and respond to human input in a conversational manner. I'm not a human, but a computer program designed to simulate conversation, answer questions, and even generate text based on the input I receive.\\n\\nI'm a large language model, trained on a massive dataset of text from various sources, including books, articles, and online conversations. This training enables me to understand and respond to a wide range of topics and questions, from science and history to entertainment and culture.\\n\\nI'm constantly learning and improving, so please bear with me if I make any mistakes or don't quite understand what you're asking. I'm here to help, provide information, and even have some fun conversations!\""
            ],
            "application/vnd.google.colaboratory.intrinsic+json": {
              "type": "string"
            }
          },
          "metadata": {},
          "execution_count": 73
        }
      ]
    },
    {
      "cell_type": "code",
      "source": [
        "def function2(input):\n",
        "  upper_string=input.upper()\n",
        "  return upper_string"
      ],
      "metadata": {
        "id": "1x-v6bYwLrb6"
      },
      "execution_count": null,
      "outputs": []
    },
    {
      "cell_type": "code",
      "source": [
        "function2(\"hello\")\n"
      ],
      "metadata": {
        "colab": {
          "base_uri": "https://localhost:8080/",
          "height": 36
        },
        "id": "qDo-ICmPYnxl",
        "outputId": "b7273f80-7386-4480-c25d-532c4f07d896"
      },
      "execution_count": null,
      "outputs": [
        {
          "output_type": "execute_result",
          "data": {
            "text/plain": [
              "'HELLO'"
            ],
            "application/vnd.google.colaboratory.intrinsic+json": {
              "type": "string"
            }
          },
          "metadata": {},
          "execution_count": 75
        }
      ]
    },
    {
      "cell_type": "code",
      "source": [
        "workflow=Graph()"
      ],
      "metadata": {
        "id": "tCRX7QI_32-4"
      },
      "execution_count": null,
      "outputs": []
    },
    {
      "cell_type": "code",
      "source": [
        "workflow.add_node(\"llm\",function1)\n",
        "workflow.add_node(\"upper_string\",function2)"
      ],
      "metadata": {
        "colab": {
          "base_uri": "https://localhost:8080/"
        },
        "id": "35IDUHqa33Mi",
        "outputId": "ea4fef49-7834-4b34-a658-2d05db3fb675"
      },
      "execution_count": null,
      "outputs": [
        {
          "output_type": "execute_result",
          "data": {
            "text/plain": [
              "<langgraph.graph.graph.Graph at 0x7c4b455dbb50>"
            ]
          },
          "metadata": {},
          "execution_count": 77
        }
      ]
    },
    {
      "cell_type": "code",
      "source": [
        "workflow.add_edge(\"llm\",\"upper_string\")"
      ],
      "metadata": {
        "colab": {
          "base_uri": "https://localhost:8080/"
        },
        "id": "NSrhN0IG78AB",
        "outputId": "12afd4e4-a719-4925-cc9c-ec34b8f949b4"
      },
      "execution_count": null,
      "outputs": [
        {
          "output_type": "execute_result",
          "data": {
            "text/plain": [
              "<langgraph.graph.graph.Graph at 0x7c4b455dbb50>"
            ]
          },
          "metadata": {},
          "execution_count": 78
        }
      ]
    },
    {
      "cell_type": "code",
      "source": [
        "workflow.set_entry_point(\"llm\")"
      ],
      "metadata": {
        "colab": {
          "base_uri": "https://localhost:8080/"
        },
        "id": "kEHgjoKS8HzE",
        "outputId": "c4b718e3-bf65-481d-9fbe-7e62f5d140d7"
      },
      "execution_count": null,
      "outputs": [
        {
          "output_type": "execute_result",
          "data": {
            "text/plain": [
              "<langgraph.graph.graph.Graph at 0x7c4b455dbb50>"
            ]
          },
          "metadata": {},
          "execution_count": 79
        }
      ]
    },
    {
      "cell_type": "code",
      "source": [
        "workflow.set_finish_point(\"upper_string\")"
      ],
      "metadata": {
        "colab": {
          "base_uri": "https://localhost:8080/"
        },
        "id": "ORvFTeV89Vjz",
        "outputId": "b3660461-e631-47c3-834a-ae9161559641"
      },
      "execution_count": null,
      "outputs": [
        {
          "output_type": "execute_result",
          "data": {
            "text/plain": [
              "<langgraph.graph.graph.Graph at 0x7c4b455dbb50>"
            ]
          },
          "metadata": {},
          "execution_count": 80
        }
      ]
    },
    {
      "cell_type": "code",
      "source": [
        "app=workflow.compile()"
      ],
      "metadata": {
        "id": "wg-LagSb4yaQ"
      },
      "execution_count": null,
      "outputs": []
    },
    {
      "cell_type": "code",
      "source": [
        "from IPython.display import Image,display\n",
        "\n",
        "try:\n",
        "  display(Image(app.get_graph().draw_mermaid_png()))\n",
        "except Exception as e:\n",
        "  print(e)\n"
      ],
      "metadata": {
        "colab": {
          "base_uri": "https://localhost:8080/",
          "height": 350
        },
        "id": "CqZ-CfK094g-",
        "outputId": "74d985d0-e7dc-48d7-88e1-b8751c2c464b"
      },
      "execution_count": null,
      "outputs": [
        {
          "output_type": "display_data",
          "data": {
            "image/png": "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\n",
            "text/plain": [
              "<IPython.core.display.Image object>"
            ]
          },
          "metadata": {}
        }
      ]
    },
    {
      "cell_type": "code",
      "source": [
        "app.invoke(\"hi\")"
      ],
      "metadata": {
        "colab": {
          "base_uri": "https://localhost:8080/",
          "height": 181
        },
        "id": "iu0vDHmzMJKS",
        "outputId": "22bfd0cb-0b73-4a32-8524-09594a58e2cf"
      },
      "execution_count": null,
      "outputs": [
        {
          "output_type": "execute_result",
          "data": {
            "text/plain": [
              "\"I AM LLAMA, AN AI ASSISTANT DEVELOPED BY META AI THAT CAN UNDERSTAND AND RESPOND TO HUMAN INPUT IN A CONVERSATIONAL MANNER. I'M A LARGE LANGUAGE MODEL TRAINED ON A MASSIVE DATASET OF TEXT FROM THE INTERNET, WHICH ALLOWS ME TO UNDERSTAND AND GENERATE HUMAN-LIKE LANGUAGE.\\n\\nI CAN BE USED TO CREATE CHATBOTS, VIRTUAL ASSISTANTS, AND OTHER APPLICATIONS THAT REQUIRE NATURAL LANGUAGE UNDERSTANDING AND GENERATION CAPABILITIES. I CAN ALSO BE FINE-TUNED FOR SPECIFIC TASKS, SUCH AS ANSWERING QUESTIONS, GENERATING TEXT, OR EVEN CREATING STORIES.\\n\\nI'M CONSTANTLY LEARNING AND IMPROVING MY ABILITIES, SO PLEASE BEAR WITH ME IF I MAKE ANY MISTAKES. I'M HERE TO HELP AND PROVIDE INFORMATION ON A WIDE RANGE OF TOPICS, FROM SCIENCE AND HISTORY TO ENTERTAINMENT AND CULTURE.\\n\\nSO, HOW CAN I ASSIST YOU TODAY?\""
            ],
            "application/vnd.google.colaboratory.intrinsic+json": {
              "type": "string"
            }
          },
          "metadata": {},
          "execution_count": 84
        }
      ]
    }
  ]
}
