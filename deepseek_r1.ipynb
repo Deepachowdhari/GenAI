{
  "nbformat": 4,
  "nbformat_minor": 0,
  "metadata": {
    "colab": {
      "provenance": [],
      "authorship_tag": "ABX9TyOsCuW7xHUjd6Dt1F3pTmxY",
      "include_colab_link": true
    },
    "kernelspec": {
      "name": "python3",
      "display_name": "Python 3"
    },
    "language_info": {
      "name": "python"
    }
  },
  "cells": [
    {
      "cell_type": "markdown",
      "metadata": {
        "id": "view-in-github",
        "colab_type": "text"
      },
      "source": [
        "<a href=\"https://colab.research.google.com/github/Deepachowdhari/GenAI/blob/main/deepseek_r1.ipynb\" target=\"_parent\"><img src=\"https://colab.research.google.com/assets/colab-badge.svg\" alt=\"Open In Colab\"/></a>"
      ]
    },
    {
      "cell_type": "code",
      "execution_count": 3,
      "metadata": {
        "colab": {
          "base_uri": "https://localhost:8080/",
          "height": 36
        },
        "id": "zCB3QOAfVw2C",
        "outputId": "9473f1b3-9727-467e-a5b7-21f33eeaa155"
      },
      "outputs": [
        {
          "output_type": "execute_result",
          "data": {
            "text/plain": [
              "'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'"
            ],
            "application/vnd.google.colaboratory.intrinsic+json": {
              "type": "string"
            }
          },
          "metadata": {},
          "execution_count": 3
        }
      ],
      "source": [
        "from google.colab import userdata\n",
        "userdata.get('deepseeek_api')"
      ]
    },
    {
      "cell_type": "code",
      "source": [
        "!pip install groq"
      ],
      "metadata": {
        "colab": {
          "base_uri": "https://localhost:8080/"
        },
        "id": "EJLPSmsrW0SW",
        "outputId": "7d4ef1ee-f721-4bd4-d493-69595ff5f4e0"
      },
      "execution_count": 5,
      "outputs": [
        {
          "output_type": "stream",
          "name": "stdout",
          "text": [
            "Collecting groq\n",
            "  Downloading groq-0.15.0-py3-none-any.whl.metadata (14 kB)\n",
            "Requirement already satisfied: anyio<5,>=3.5.0 in /usr/local/lib/python3.11/dist-packages (from groq) (3.7.1)\n",
            "Requirement already satisfied: distro<2,>=1.7.0 in /usr/local/lib/python3.11/dist-packages (from groq) (1.9.0)\n",
            "Requirement already satisfied: httpx<1,>=0.23.0 in /usr/local/lib/python3.11/dist-packages (from groq) (0.28.1)\n",
            "Requirement already satisfied: pydantic<3,>=1.9.0 in /usr/local/lib/python3.11/dist-packages (from groq) (2.10.6)\n",
            "Requirement already satisfied: sniffio in /usr/local/lib/python3.11/dist-packages (from groq) (1.3.1)\n",
            "Requirement already satisfied: typing-extensions<5,>=4.10 in /usr/local/lib/python3.11/dist-packages (from groq) (4.12.2)\n",
            "Requirement already satisfied: idna>=2.8 in /usr/local/lib/python3.11/dist-packages (from anyio<5,>=3.5.0->groq) (3.10)\n",
            "Requirement already satisfied: certifi in /usr/local/lib/python3.11/dist-packages (from httpx<1,>=0.23.0->groq) (2024.12.14)\n",
            "Requirement already satisfied: httpcore==1.* in /usr/local/lib/python3.11/dist-packages (from httpx<1,>=0.23.0->groq) (1.0.7)\n",
            "Requirement already satisfied: h11<0.15,>=0.13 in /usr/local/lib/python3.11/dist-packages (from httpcore==1.*->httpx<1,>=0.23.0->groq) (0.14.0)\n",
            "Requirement already satisfied: annotated-types>=0.6.0 in /usr/local/lib/python3.11/dist-packages (from pydantic<3,>=1.9.0->groq) (0.7.0)\n",
            "Requirement already satisfied: pydantic-core==2.27.2 in /usr/local/lib/python3.11/dist-packages (from pydantic<3,>=1.9.0->groq) (2.27.2)\n",
            "Downloading groq-0.15.0-py3-none-any.whl (109 kB)\n",
            "\u001b[?25l   \u001b[90m━━━━━━━━━━━━━━━━━━━━━━━━━━━━━━━━━━━━━━━━\u001b[0m \u001b[32m0.0/109.6 kB\u001b[0m \u001b[31m?\u001b[0m eta \u001b[36m-:--:--\u001b[0m\r\u001b[2K   \u001b[90m━━━━━━━━━━━━━━━━━━━━━━━━━━━━━━━━━━━━━━━━\u001b[0m \u001b[32m109.6/109.6 kB\u001b[0m \u001b[31m9.6 MB/s\u001b[0m eta \u001b[36m0:00:00\u001b[0m\n",
            "\u001b[?25hInstalling collected packages: groq\n",
            "Successfully installed groq-0.15.0\n"
          ]
        }
      ]
    },
    {
      "cell_type": "code",
      "source": [
        "from groq import Groq"
      ],
      "metadata": {
        "id": "ckFSm_zuWnpQ"
      },
      "execution_count": 6,
      "outputs": []
    },
    {
      "cell_type": "code",
      "source": [
        "client=Groq(api_key='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')"
      ],
      "metadata": {
        "id": "fAz-ERiEXLuU"
      },
      "execution_count": 11,
      "outputs": []
    },
    {
      "cell_type": "code",
      "source": [
        "chat_completion = client.chat.completions.create(\n",
        "    messages=[\n",
        "        {\n",
        "            \"role\": \"user\",\n",
        "            \"content\": \"Explain the importance of reasoning models\",\n",
        "        }\n",
        "    ],\n",
        "    model=\"deepseek-r1-distill-llama-70b\",\n",
        ")\n",
        "\n",
        "print(chat_completion.choices[0].message.content)"
      ],
      "metadata": {
        "colab": {
          "base_uri": "https://localhost:8080/"
        },
        "id": "-NhWqZcJXa-A",
        "outputId": "0f13e241-aaad-49cf-9d49-77ad1ae87c6d"
      },
      "execution_count": 12,
      "outputs": [
        {
          "output_type": "stream",
          "name": "stdout",
          "text": [
            "<think>\n",
            "Okay, so I need to explain the importance of reasoning models. Hmm, I remember that reasoning models are used in various fields like AI, psychology, and maybe even in education. Let me try to break this down.\n",
            "\n",
            "First, what are reasoning models? I think they are frameworks or structures that outline how reasoning processes work. They help in understanding how humans or machines make decisions, solve problems, or draw conclusions. So, their importance would stem from their applications in these areas.\n",
            "\n",
            "In AI, reasoning models are crucial because they enable machines to make decisions based on data and rules. Without them, AI systems wouldn't be able to process information logically. For example, expert systems use reasoning models to mimic human decision-making in specific domains.\n",
            "\n",
            "Then, in cognitive science, these models help researchers understand how the human mind works. By creating models, they can test theories about cognition, memory, and problem-solving. This could lead to better teaching methods or treatments for cognitive disorders.\n",
            "\n",
            "Education must benefit too. If teachers understand how students reason, they can design better curricula. Maybe by using reasoning models, educators can identify where students are struggling and adjust their teaching strategies.\n",
            "\n",
            "In problem-solving, reasoning models provide a structured approach. They break down complex issues into manageable parts, making it easier to find solutions. This is probably why they're used in project management and strategic planning.\n",
            "\n",
            "Decision-making is another area. Models like decision trees or SWOT analyses help in evaluating options systematically. This reduces the chance of making poor decisions and increases efficiency.\n",
            "\n",
            "Ethical reasoning models are important too. They guide professionals in making morally sound decisions, especially in fields like medicine or law where ethics are critical. It helps in considering different perspectives and ensuring fair outcomes.\n",
            "\n",
            "In machine learning, reasoning models enhance the interpretability of AI. If a model can explain its reasoning, like in explainable AI (XAI), it builds trust and ensures accountability. This is vital for regulating AI and ensuring it's used responsibly.\n",
            "\n",
            "Wait, I should make sure I'm not missing any key points. Are there other fields where reasoning models are important? Maybe in philosophy, where logical reasoning is fundamental. Or in data analysis, where statistical models are a type of reasoning model.\n",
            "\n",
            "Also, I should consider the practical applications. For instance, in healthcare, reasoning models can help diagnose diseases more accurately by systematically evaluating symptoms and test results.\n",
            "\n",
            "I think I've covered the main areas: AI, cognitive science, education, problem-solving, decision-making, ethics, and machine learning. Each of these fields relies on reasoning models to function effectively. By providing structure and clarity, these models improve efficiency, accuracy, and accountability in various processes.\n",
            "\n",
            "Maybe I should also mention how reasoning models facilitate communication. By standardizing the approach, teams can discuss and understand each other's reasoning better, leading to more collaborative and effective work environments.\n",
            "\n",
            "Alright, I think I have a good grasp of the importance of reasoning models now. They're essential for simulating human thought, improving decision-making processes, and ensuring ethical considerations across multiple disciplines.\n",
            "</think>\n",
            "\n",
            "Reasoning models are essential frameworks that outline and structure the processes of decision-making, problem-solving, and logical thinking. Their importance spans multiple disciplines, each benefiting from their structured approach:\n",
            "\n",
            "1. **Artificial Intelligence (AI):** Reasoning models enable machines to process information logically, allowing AI systems like expert systems to mimic human decision-making, thus enhancing their functionality.\n",
            "\n",
            "2. **Cognitive Science:** These models help researchers understand human cognition, aiding in the development of theories and applications in education and cognitive therapy.\n",
            "\n",
            "3. **Education:** By understanding student reasoning, educators can tailor curricula and teaching strategies to improve learning outcomes.\n",
            "\n",
            "4. **Problem-Solving:** Reasoning models provide structured approaches to break down complex issues, facilitating effective solutions in fields like project management.\n",
            "\n",
            "5. **Decision-Making:** Models such as decision trees aid in systematic evaluation of options, reducing poor decisions and enhancing efficiency.\n",
            "\n",
            "6. **Ethics:** They guide professionals in making morally sound decisions, particularly in fields like medicine and law, ensuring fairness and consideration of diverse perspectives.\n",
            "\n",
            "7. **Machine Learning:** Enhancing AI interpretability, reasoning models build trust and accountability, crucial for responsible AI use.\n",
            "\n",
            "8. **Philosophy and Data Analysis:** They underpin logical reasoning and statistical analysis, respectively, aiding in rigorous argumentation and data interpretation.\n",
            "\n",
            "9. **Healthcare:** They improve disease diagnosis by systematically evaluating symptoms and test results.\n",
            "\n",
            "10. **Communication:** Standardizing reasoning processes fosters better team collaboration and understanding.\n",
            "\n",
            "In summary, reasoning models are vital for simulating thought processes, enhancing decision-making, and ensuring ethical considerations across various fields, thereby improving efficiency, accuracy, and accountability.\n"
          ]
        }
      ]
    }
  ]
}